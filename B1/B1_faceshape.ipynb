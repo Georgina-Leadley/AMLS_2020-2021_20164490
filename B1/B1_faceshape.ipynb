{
 "cells": [
  {
   "cell_type": "code",
   "execution_count": null,
   "metadata": {},
   "outputs": [],
   "source": [
    "import torch\n",
    "import torchvision\n",
    "from __future__ import print_function\n",
    "from __future__ import division\n",
    "import torch\n",
    "import torch.nn as nn\n",
    "import torch.optim as optim\n",
    "import numpy as np\n",
    "import torchvision\n",
    "from torchvision import datasets, models, transforms\n",
    "import matplotlib.pyplot as plt\n",
    "import time\n",
    "import os\n",
    "import copy\n",
    "from collections import Counter\n",
    "from tqdm import tqdm\n",
    "import PIL \n",
    "from PIL import Image\n",
    "import pandas as pd\n",
    "import datetime"
   ]
  },
  {
   "cell_type": "code",
   "execution_count": null,
   "metadata": {},
   "outputs": [],
   "source": [
    "import pandas as pd\n",
    "\n",
    "Data = pd.read_csv('/content/cartoon_set/labels.csv', delim_whitespace= True)\n",
    "Data.set_index('file_name', inplace=True)"
   ]
  },
  {
   "cell_type": "code",
   "execution_count": null,
   "metadata": {},
   "outputs": [],
   "source": [
    "import glob\n",
    "import shutil\n",
    "PATH = '/content/cartoon_set/img/'\n",
    "filenames = glob.glob(PATH + '*png')\n",
    "print(len(filenames))"
   ]
  },
  {
   "cell_type": "code",
   "execution_count": null,
   "metadata": {},
   "outputs": [],
   "source": [
    "for i in ['train', 'valid']:\n",
    "  for j in ['0','1','2','3','4']:\n",
    "    if not os.path.exists(os.path.join(PATH, i, j)):\n",
    "      os.makedirs(os.path.join(PATH, i, j))"
   ]
  },
  {
   "cell_type": "code",
   "execution_count": null,
   "metadata": {},
   "outputs": [],
   "source": [
    "i = 0\n",
    "j = 0\n",
    "shuffle = np.random.permutation(len(filenames))\n",
    "for j in tqdm(shuffle[:9000]):\n",
    "  file = filenames[j].split('/')[-1]\n",
    "  #print(file)\n",
    "  if Data[Data.index == file]['face_shape'].item() == 0:\n",
    "    shutil.copy(PATH + file, PATH + 'train/' +'0/' + file)\n",
    "  \n",
    "  elif Data[Data.index == file]['face_shape'].item() == 1:\n",
    "    shutil.copy(PATH + file, PATH + 'train/' +'1/' + file)\n",
    "\n",
    "  elif Data[Data.index == file]['face_shape'].item() == 2:\n",
    "    shutil.copy(PATH + file, PATH + 'train/' +'2/' + file)\n",
    "\n",
    "  elif Data[Data.index == file]['face_shape'].item() == 3:\n",
    "    shutil.copy(PATH + file, PATH + 'train/' +'3/' + file)\n",
    "\n",
    "  elif Data[Data.index == file]['face_shape'].item() == 4:\n",
    "    shutil.copy(PATH + file, PATH + 'train/' +'4/' + file)\n",
    "\n",
    "for i in tqdm(shuffle[9000:]):\n",
    "  file = filenames[i].split('/')[-1]\n",
    "  #print(file)\n",
    "  if Data[Data.index == file]['face_shape'].item() == 0:\n",
    "    shutil.copy(PATH + file, PATH + 'valid/' +'0/' + file)\n",
    "  \n",
    "  elif Data[Data.index == file]['face_shape'].item() == 1:\n",
    "    shutil.copy(PATH + file, PATH + 'valid/' +'1/' + file)\n",
    "\n",
    "  elif Data[Data.index == file]['face_shape'].item() == 2:\n",
    "    shutil.copy(PATH + file, PATH + 'valid/' +'2/' + file)\n",
    "\n",
    "  elif Data[Data.index == file]['face_shape'].item() == 3:\n",
    "    shutil.copy(PATH + file, PATH + 'valid/' +'3/' + file)\n",
    "\n",
    "  elif Data[Data.index == file]['face_shape'].item() == 4:\n",
    "    shutil.copy(PATH + file, PATH + 'valid/' +'4/' + file)"
   ]
  },
  {
   "cell_type": "code",
   "execution_count": null,
   "metadata": {},
   "outputs": [],
   "source": [
    "data_dir = '/content/cartoon_set/img/'\n",
    "input_size = 400\n",
    "batch_size = 10\n",
    "data_transforms = {\n",
    "    'train': transforms.Compose([\n",
    "        transforms.Resize(input_size),\n",
    "        transforms.CenterCrop(224),\n",
    "        transforms.ColorJitter(brightness=0, contrast=0.7, saturation=0.7, hue=0),\n",
    "        transforms.Grayscale(num_output_channels=3),\n",
    "        transforms.RandomHorizontalFlip(),\n",
    "        #transforms.RandomRotation(degrees=15),\n",
    "        transforms.ToTensor(),\n",
    "        transforms.Normalize([0.485, 0.456, 0.406], [0.229, 0.224, 0.225])\n",
    "    ]),\n",
    "    'valid': transforms.Compose([\n",
    "        transforms.Resize(input_size),\n",
    "        transforms.Grayscale(num_output_channels=3),\n",
    "        transforms.CenterCrop(input_size),\n",
    "        transforms.ToTensor(),\n",
    "        transforms.Normalize([0.485, 0.456, 0.406], [0.229, 0.224, 0.225])\n",
    "    ]),\n",
    "}\n",
    "\n",
    "print(\"Initializing Datasets and Dataloaders...\")\n",
    "\n",
    "# Create training and validation datasets\n",
    "image_datasets = {x: datasets.ImageFolder(os.path.join(data_dir, x), data_transforms[x]) for x in ['train', 'valid']}\n",
    "# Create training and validation dataloaders\n",
    "dataloaders_dict = {x: torch.utils.data.DataLoader(image_datasets[x], batch_size=batch_size, shuffle=True, num_workers=7) for x in ['train', 'valid']}\n",
    "\n",
    "# Detect if we have a GPU available\n",
    "device = torch.device(\"cuda:0\" if torch.cuda.is_available() else \"cpu\")"
   ]
  }
 ],
 "metadata": {
  "kernelspec": {
   "display_name": "Python 3",
   "language": "python",
   "name": "python3"
  },
  "language_info": {
   "codemirror_mode": {
    "name": "ipython",
    "version": 3
   },
   "file_extension": ".py",
   "mimetype": "text/x-python",
   "name": "python",
   "nbconvert_exporter": "python",
   "pygments_lexer": "ipython3",
   "version": "3.7.9"
  }
 },
 "nbformat": 4,
 "nbformat_minor": 4
}
