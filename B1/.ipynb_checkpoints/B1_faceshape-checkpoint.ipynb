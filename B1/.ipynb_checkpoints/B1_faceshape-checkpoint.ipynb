{
 "cells": [
  {
   "cell_type": "code",
   "execution_count": null,
   "metadata": {},
   "outputs": [],
   "source": [
    "import torch\n",
    "import torchvision\n",
    "from __future__ import print_function\n",
    "from __future__ import division\n",
    "import torch\n",
    "import torch.nn as nn\n",
    "import torch.optim as optim\n",
    "import numpy as np\n",
    "import torchvision\n",
    "from torchvision import datasets, models, transforms\n",
    "import matplotlib.pyplot as plt\n",
    "import time\n",
    "import os\n",
    "import copy\n",
    "from collections import Counter\n",
    "from tqdm import tqdm\n",
    "import PIL \n",
    "from PIL import Image\n",
    "import pandas as pd\n",
    "import datetime"
   ]
  },
  {
   "cell_type": "code",
   "execution_count": null,
   "metadata": {},
   "outputs": [],
   "source": [
    "import pandas as pd\n",
    "\n",
    "Data = pd.read_csv('/content/cartoon_set/labels.csv', delim_whitespace= True)\n",
    "Data.set_index('file_name', inplace=True)"
   ]
  },
  {
   "cell_type": "code",
   "execution_count": null,
   "metadata": {},
   "outputs": [],
   "source": [
    "import glob\n",
    "import shutil\n",
    "PATH = '/content/cartoon_set/img/'\n",
    "filenames = glob.glob(PATH + '*png')\n",
    "print(len(filenames))"
   ]
  },
  {
   "cell_type": "code",
   "execution_count": null,
   "metadata": {},
   "outputs": [],
   "source": [
    "for i in ['train', 'valid']:\n",
    "  for j in ['0','1','2','3','4']:\n",
    "    if not os.path.exists(os.path.join(PATH, i, j)):\n",
    "      os.makedirs(os.path.join(PATH, i, j))"
   ]
  },
  {
   "cell_type": "code",
   "execution_count": null,
   "metadata": {},
   "outputs": [],
   "source": [
    "i = 0\n",
    "j = 0\n",
    "shuffle = np.random.permutation(len(filenames))\n",
    "for j in tqdm(shuffle[:9000]):\n",
    "  file = filenames[j].split('/')[-1]\n",
    "  #print(file)\n",
    "  if Data[Data.index == file]['face_shape'].item() == 0:\n",
    "    shutil.copy(PATH + file, PATH + 'train/' +'0/' + file)\n",
    "  \n",
    "  elif Data[Data.index == file]['face_shape'].item() == 1:\n",
    "    shutil.copy(PATH + file, PATH + 'train/' +'1/' + file)\n",
    "\n",
    "  elif Data[Data.index == file]['face_shape'].item() == 2:\n",
    "    shutil.copy(PATH + file, PATH + 'train/' +'2/' + file)\n",
    "\n",
    "  elif Data[Data.index == file]['face_shape'].item() == 3:\n",
    "    shutil.copy(PATH + file, PATH + 'train/' +'3/' + file)\n",
    "\n",
    "  elif Data[Data.index == file]['face_shape'].item() == 4:\n",
    "    shutil.copy(PATH + file, PATH + 'train/' +'4/' + file)\n",
    "\n",
    "for i in tqdm(shuffle[9000:]):\n",
    "  file = filenames[i].split('/')[-1]\n",
    "  #print(file)\n",
    "  if Data[Data.index == file]['face_shape'].item() == 0:\n",
    "    shutil.copy(PATH + file, PATH + 'valid/' +'0/' + file)\n",
    "  \n",
    "  elif Data[Data.index == file]['face_shape'].item() == 1:\n",
    "    shutil.copy(PATH + file, PATH + 'valid/' +'1/' + file)\n",
    "\n",
    "  elif Data[Data.index == file]['face_shape'].item() == 2:\n",
    "    shutil.copy(PATH + file, PATH + 'valid/' +'2/' + file)\n",
    "\n",
    "  elif Data[Data.index == file]['face_shape'].item() == 3:\n",
    "    shutil.copy(PATH + file, PATH + 'valid/' +'3/' + file)\n",
    "\n",
    "  elif Data[Data.index == file]['face_shape'].item() == 4:\n",
    "    shutil.copy(PATH + file, PATH + 'valid/' +'4/' + file)"
   ]
  },
  {
   "cell_type": "code",
   "execution_count": null,
   "metadata": {},
   "outputs": [],
   "source": []
  }
 ],
 "metadata": {
  "kernelspec": {
   "display_name": "Python 3",
   "language": "python",
   "name": "python3"
  },
  "language_info": {
   "codemirror_mode": {
    "name": "ipython",
    "version": 3
   },
   "file_extension": ".py",
   "mimetype": "text/x-python",
   "name": "python",
   "nbconvert_exporter": "python",
   "pygments_lexer": "ipython3",
   "version": "3.7.9"
  }
 },
 "nbformat": 4,
 "nbformat_minor": 4
}
